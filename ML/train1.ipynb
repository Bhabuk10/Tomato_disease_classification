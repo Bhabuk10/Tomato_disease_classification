{
 "cells": [
  {
   "cell_type": "code",
   "execution_count": 1,
   "metadata": {},
   "outputs": [],
   "source": [
    "import torch\n",
    "import torch.nn as nn\n",
    "import torch.nn.functional as F\n",
    "import torch.optim as optim\n",
    "from torch.utils.data import DataLoader, Dataset\n",
    "from torchvision import datasets, transforms\n",
    "from tqdm import tqdm\n",
    "import os\n",
    "import matplotlib.pyplot as plt\n",
    "from PIL import Image\n",
    "from torchvision.datasets import ImageFolder"
   ]
  },
  {
   "cell_type": "code",
   "execution_count": 2,
   "metadata": {},
   "outputs": [],
   "source": [
    "class SafeImageFolder(ImageFolder):\n",
    "    def __getitem__(self, index):\n",
    "        try:\n",
    "            return super(SafeImageFolder, self).__getitem__(index)\n",
    "        except FileNotFoundError:\n",
    "            # If file is not found, return a dummy image and a dummy label\n",
    "            dummy_img = Image.new('RGB', (128, 128))\n",
    "            return self.transform(dummy_img), -1  # Use a label that indicates missing file\n"
   ]
  },
  {
   "cell_type": "code",
   "execution_count": 3,
   "metadata": {},
   "outputs": [],
   "source": [
    "\n",
    "# Define the transformations for the training and validation datasets\n",
    "data_transforms = {\n",
    "    'train': transforms.Compose([\n",
    "        transforms.Resize((128, 128)),\n",
    "        transforms.ToTensor(),\n",
    "    ]),\n",
    "    'val': transforms.Compose([\n",
    "        transforms.Resize((128, 128)),\n",
    "        transforms.ToTensor(),\n",
    "    ]),\n",
    "}\n",
    "\n",
    "# Specify the dataset directory paths\n",
    "train_dir = r'C:\\Users\\User\\Desktop\\Tomato_disease\\Datasets\\tomato\\train'\n",
    "val_dir = r'C:\\Users\\User\\Desktop\\Tomato_disease\\Datasets\\tomato\\val'\n",
    "\n",
    "# Load the datasets using the SafeImageFolder class\n",
    "train_dataset = SafeImageFolder(train_dir, transform=data_transforms['train'])\n",
    "val_dataset = SafeImageFolder(val_dir, transform=data_transforms['val'])\n",
    "\n",
    "# Create data loaders\n",
    "train_loader = DataLoader(train_dataset, batch_size=64, shuffle=True)\n",
    "val_loader = DataLoader(val_dataset, batch_size=64, shuffle=False)\n"
   ]
  },
  {
   "cell_type": "code",
   "execution_count": null,
   "metadata": {},
   "outputs": [],
   "source": []
  },
  {
   "cell_type": "code",
   "execution_count": 4,
   "metadata": {},
   "outputs": [
    {
     "name": "stderr",
     "output_type": "stream",
     "text": [
      "Epoch 1/100: 100%|██████████| 157/157 [01:03<00:00,  2.46batch/s, loss=1.53]\n",
      "Validating: 100%|██████████| 16/16 [00:05<00:00,  3.03batch/s]\n"
     ]
    },
    {
     "name": "stdout",
     "output_type": "stream",
     "text": [
      "Epoch [1/100], Train Loss: 1.5314, Val Loss: 1.4377, Train Accuracy: 0.5765, Val Accuracy: 0.6140\n"
     ]
    },
    {
     "name": "stderr",
     "output_type": "stream",
     "text": [
      "Epoch 2/100: 100%|██████████| 157/157 [00:17<00:00,  9.19batch/s, loss=0.684]\n",
      "Validating: 100%|██████████| 16/16 [00:01<00:00, 13.75batch/s]\n"
     ]
    },
    {
     "name": "stdout",
     "output_type": "stream",
     "text": [
      "Epoch [2/100], Train Loss: 0.6844, Val Loss: 1.3545, Train Accuracy: 0.7656, Val Accuracy: 0.6170\n"
     ]
    },
    {
     "name": "stderr",
     "output_type": "stream",
     "text": [
      "Epoch 3/100: 100%|██████████| 157/157 [00:17<00:00,  9.19batch/s, loss=0.571]\n",
      "Validating: 100%|██████████| 16/16 [00:01<00:00, 13.63batch/s]\n"
     ]
    },
    {
     "name": "stdout",
     "output_type": "stream",
     "text": [
      "Epoch [3/100], Train Loss: 0.5711, Val Loss: 0.6655, Train Accuracy: 0.8012, Val Accuracy: 0.7720\n"
     ]
    },
    {
     "name": "stderr",
     "output_type": "stream",
     "text": [
      "Epoch 4/100: 100%|██████████| 157/157 [00:17<00:00,  9.15batch/s, loss=0.498]\n",
      "Validating: 100%|██████████| 16/16 [00:01<00:00, 13.33batch/s]\n"
     ]
    },
    {
     "name": "stdout",
     "output_type": "stream",
     "text": [
      "Epoch [4/100], Train Loss: 0.4978, Val Loss: 0.4797, Train Accuracy: 0.8293, Val Accuracy: 0.8380\n"
     ]
    },
    {
     "name": "stderr",
     "output_type": "stream",
     "text": [
      "Epoch 5/100: 100%|██████████| 157/157 [00:16<00:00,  9.24batch/s, loss=0.435]\n",
      "Validating: 100%|██████████| 16/16 [00:01<00:00, 13.40batch/s]\n"
     ]
    },
    {
     "name": "stdout",
     "output_type": "stream",
     "text": [
      "Epoch [5/100], Train Loss: 0.4348, Val Loss: 0.5235, Train Accuracy: 0.8515, Val Accuracy: 0.8480\n"
     ]
    },
    {
     "name": "stderr",
     "output_type": "stream",
     "text": [
      "Epoch 6/100: 100%|██████████| 157/157 [00:16<00:00,  9.25batch/s, loss=0.387]\n",
      "Validating: 100%|██████████| 16/16 [00:01<00:00, 13.84batch/s]\n"
     ]
    },
    {
     "name": "stdout",
     "output_type": "stream",
     "text": [
      "Epoch [6/100], Train Loss: 0.3866, Val Loss: 0.4951, Train Accuracy: 0.8676, Val Accuracy: 0.8380\n"
     ]
    },
    {
     "name": "stderr",
     "output_type": "stream",
     "text": [
      "Epoch 7/100: 100%|██████████| 157/157 [00:16<00:00,  9.29batch/s, loss=0.345]\n",
      "Validating: 100%|██████████| 16/16 [00:01<00:00, 14.07batch/s]\n"
     ]
    },
    {
     "name": "stdout",
     "output_type": "stream",
     "text": [
      "Epoch [7/100], Train Loss: 0.3455, Val Loss: 4.0697, Train Accuracy: 0.8822, Val Accuracy: 0.4270\n"
     ]
    },
    {
     "name": "stderr",
     "output_type": "stream",
     "text": [
      "Epoch 8/100: 100%|██████████| 157/157 [00:16<00:00,  9.25batch/s, loss=0.321]\n",
      "Validating: 100%|██████████| 16/16 [00:01<00:00, 13.91batch/s]\n"
     ]
    },
    {
     "name": "stdout",
     "output_type": "stream",
     "text": [
      "Epoch [8/100], Train Loss: 0.3209, Val Loss: 0.2251, Train Accuracy: 0.8887, Val Accuracy: 0.9290\n"
     ]
    },
    {
     "name": "stderr",
     "output_type": "stream",
     "text": [
      "Epoch 9/100: 100%|██████████| 157/157 [00:17<00:00,  9.21batch/s, loss=0.302]\n",
      "Validating: 100%|██████████| 16/16 [00:01<00:00, 13.70batch/s]\n"
     ]
    },
    {
     "name": "stdout",
     "output_type": "stream",
     "text": [
      "Epoch [9/100], Train Loss: 0.3021, Val Loss: 0.3265, Train Accuracy: 0.8964, Val Accuracy: 0.9120\n"
     ]
    },
    {
     "name": "stderr",
     "output_type": "stream",
     "text": [
      "Epoch 10/100: 100%|██████████| 157/157 [00:17<00:00,  9.14batch/s, loss=0.286]\n",
      "Validating: 100%|██████████| 16/16 [00:01<00:00, 13.18batch/s]\n"
     ]
    },
    {
     "name": "stdout",
     "output_type": "stream",
     "text": [
      "Epoch [10/100], Train Loss: 0.2863, Val Loss: 0.2254, Train Accuracy: 0.9021, Val Accuracy: 0.9340\n"
     ]
    },
    {
     "name": "stderr",
     "output_type": "stream",
     "text": [
      "Epoch 11/100: 100%|██████████| 157/157 [00:17<00:00,  9.08batch/s, loss=0.286]\n",
      "Validating: 100%|██████████| 16/16 [00:01<00:00, 13.70batch/s]\n"
     ]
    },
    {
     "name": "stdout",
     "output_type": "stream",
     "text": [
      "Epoch [11/100], Train Loss: 0.2859, Val Loss: 1.2170, Train Accuracy: 0.9029, Val Accuracy: 0.7490\n"
     ]
    },
    {
     "name": "stderr",
     "output_type": "stream",
     "text": [
      "Epoch 12/100: 100%|██████████| 157/157 [00:17<00:00,  9.16batch/s, loss=0.25] \n",
      "Validating: 100%|██████████| 16/16 [00:01<00:00, 13.04batch/s]\n"
     ]
    },
    {
     "name": "stdout",
     "output_type": "stream",
     "text": [
      "Epoch [12/100], Train Loss: 0.2498, Val Loss: 0.3871, Train Accuracy: 0.9116, Val Accuracy: 0.8900\n"
     ]
    },
    {
     "name": "stderr",
     "output_type": "stream",
     "text": [
      "Epoch 13/100: 100%|██████████| 157/157 [00:17<00:00,  8.86batch/s, loss=0.239]\n",
      "Validating: 100%|██████████| 16/16 [00:01<00:00, 13.79batch/s]\n"
     ]
    },
    {
     "name": "stdout",
     "output_type": "stream",
     "text": [
      "Epoch [13/100], Train Loss: 0.2386, Val Loss: 1.0068, Train Accuracy: 0.9177, Val Accuracy: 0.7640\n"
     ]
    },
    {
     "name": "stderr",
     "output_type": "stream",
     "text": [
      "Epoch 14/100: 100%|██████████| 157/157 [00:17<00:00,  9.22batch/s, loss=0.232]\n",
      "Validating: 100%|██████████| 16/16 [00:01<00:00, 14.12batch/s]\n"
     ]
    },
    {
     "name": "stdout",
     "output_type": "stream",
     "text": [
      "Epoch [14/100], Train Loss: 0.2322, Val Loss: 0.9006, Train Accuracy: 0.9216, Val Accuracy: 0.7690\n"
     ]
    },
    {
     "name": "stderr",
     "output_type": "stream",
     "text": [
      "Epoch 15/100: 100%|██████████| 157/157 [00:16<00:00,  9.28batch/s, loss=0.232]\n",
      "Validating: 100%|██████████| 16/16 [00:01<00:00, 13.12batch/s]\n"
     ]
    },
    {
     "name": "stdout",
     "output_type": "stream",
     "text": [
      "Epoch [15/100], Train Loss: 0.2318, Val Loss: 0.2694, Train Accuracy: 0.9200, Val Accuracy: 0.9200\n"
     ]
    },
    {
     "name": "stderr",
     "output_type": "stream",
     "text": [
      "Epoch 16/100: 100%|██████████| 157/157 [00:17<00:00,  9.17batch/s, loss=0.222]\n",
      "Validating: 100%|██████████| 16/16 [00:01<00:00, 13.52batch/s]\n"
     ]
    },
    {
     "name": "stdout",
     "output_type": "stream",
     "text": [
      "Epoch [16/100], Train Loss: 0.2217, Val Loss: 0.3240, Train Accuracy: 0.9203, Val Accuracy: 0.9020\n"
     ]
    },
    {
     "name": "stderr",
     "output_type": "stream",
     "text": [
      "Epoch 17/100: 100%|██████████| 157/157 [00:17<00:00,  9.14batch/s, loss=0.18] \n",
      "Validating: 100%|██████████| 16/16 [00:01<00:00, 13.68batch/s]\n"
     ]
    },
    {
     "name": "stdout",
     "output_type": "stream",
     "text": [
      "Epoch [17/100], Train Loss: 0.1805, Val Loss: 0.3429, Train Accuracy: 0.9353, Val Accuracy: 0.9040\n"
     ]
    },
    {
     "name": "stderr",
     "output_type": "stream",
     "text": [
      "Epoch 18/100: 100%|██████████| 157/157 [00:17<00:00,  9.11batch/s, loss=0.193]\n",
      "Validating: 100%|██████████| 16/16 [00:01<00:00, 13.78batch/s]\n"
     ]
    },
    {
     "name": "stdout",
     "output_type": "stream",
     "text": [
      "Epoch [18/100], Train Loss: 0.1934, Val Loss: 0.5573, Train Accuracy: 0.9322, Val Accuracy: 0.8570\n"
     ]
    },
    {
     "name": "stderr",
     "output_type": "stream",
     "text": [
      "Epoch 19/100: 100%|██████████| 157/157 [00:17<00:00,  9.13batch/s, loss=0.167]\n",
      "Validating: 100%|██████████| 16/16 [00:01<00:00, 12.98batch/s]\n"
     ]
    },
    {
     "name": "stdout",
     "output_type": "stream",
     "text": [
      "Epoch [19/100], Train Loss: 0.1673, Val Loss: 0.2587, Train Accuracy: 0.9431, Val Accuracy: 0.9170\n"
     ]
    },
    {
     "name": "stderr",
     "output_type": "stream",
     "text": [
      "Epoch 20/100: 100%|██████████| 157/157 [00:18<00:00,  8.60batch/s, loss=0.169]\n",
      "Validating: 100%|██████████| 16/16 [00:01<00:00, 11.93batch/s]\n"
     ]
    },
    {
     "name": "stdout",
     "output_type": "stream",
     "text": [
      "Epoch [20/100], Train Loss: 0.1689, Val Loss: 2.4167, Train Accuracy: 0.9424, Val Accuracy: 0.6600\n"
     ]
    },
    {
     "name": "stderr",
     "output_type": "stream",
     "text": [
      "Epoch 21/100: 100%|██████████| 157/157 [00:18<00:00,  8.55batch/s, loss=0.174]\n",
      "Validating: 100%|██████████| 16/16 [00:02<00:00,  7.38batch/s]\n"
     ]
    },
    {
     "name": "stdout",
     "output_type": "stream",
     "text": [
      "Epoch [21/100], Train Loss: 0.1739, Val Loss: 0.7602, Train Accuracy: 0.9388, Val Accuracy: 0.8450\n"
     ]
    },
    {
     "name": "stderr",
     "output_type": "stream",
     "text": [
      "Epoch 22/100: 100%|██████████| 157/157 [00:17<00:00,  9.20batch/s, loss=0.138]\n",
      "Validating: 100%|██████████| 16/16 [00:01<00:00, 13.53batch/s]\n"
     ]
    },
    {
     "name": "stdout",
     "output_type": "stream",
     "text": [
      "Epoch [22/100], Train Loss: 0.1381, Val Loss: 0.1893, Train Accuracy: 0.9527, Val Accuracy: 0.9430\n"
     ]
    },
    {
     "name": "stderr",
     "output_type": "stream",
     "text": [
      "Epoch 23/100: 100%|██████████| 157/157 [00:16<00:00,  9.24batch/s, loss=0.166]\n",
      "Validating: 100%|██████████| 16/16 [00:01<00:00, 13.81batch/s]\n"
     ]
    },
    {
     "name": "stdout",
     "output_type": "stream",
     "text": [
      "Epoch [23/100], Train Loss: 0.1656, Val Loss: 0.3978, Train Accuracy: 0.9426, Val Accuracy: 0.9080\n"
     ]
    },
    {
     "name": "stderr",
     "output_type": "stream",
     "text": [
      "Epoch 24/100: 100%|██████████| 157/157 [00:17<00:00,  9.23batch/s, loss=0.135]\n",
      "Validating: 100%|██████████| 16/16 [00:01<00:00, 13.71batch/s]\n"
     ]
    },
    {
     "name": "stdout",
     "output_type": "stream",
     "text": [
      "Epoch [24/100], Train Loss: 0.1346, Val Loss: 0.2029, Train Accuracy: 0.9534, Val Accuracy: 0.9500\n"
     ]
    },
    {
     "name": "stderr",
     "output_type": "stream",
     "text": [
      "Epoch 25/100: 100%|██████████| 157/157 [00:18<00:00,  8.63batch/s, loss=0.135]\n",
      "Validating: 100%|██████████| 16/16 [00:01<00:00, 13.91batch/s]\n"
     ]
    },
    {
     "name": "stdout",
     "output_type": "stream",
     "text": [
      "Epoch [25/100], Train Loss: 0.1354, Val Loss: 1.5202, Train Accuracy: 0.9529, Val Accuracy: 0.7100\n"
     ]
    },
    {
     "name": "stderr",
     "output_type": "stream",
     "text": [
      "Epoch 26/100: 100%|██████████| 157/157 [00:16<00:00,  9.26batch/s, loss=0.116]\n",
      "Validating: 100%|██████████| 16/16 [00:01<00:00, 13.90batch/s]\n"
     ]
    },
    {
     "name": "stdout",
     "output_type": "stream",
     "text": [
      "Epoch [26/100], Train Loss: 0.1164, Val Loss: 0.6081, Train Accuracy: 0.9601, Val Accuracy: 0.8670\n"
     ]
    },
    {
     "name": "stderr",
     "output_type": "stream",
     "text": [
      "Epoch 27/100: 100%|██████████| 157/157 [00:18<00:00,  8.65batch/s, loss=0.114]\n",
      "Validating: 100%|██████████| 16/16 [00:01<00:00, 12.93batch/s]\n"
     ]
    },
    {
     "name": "stdout",
     "output_type": "stream",
     "text": [
      "Epoch [27/100], Train Loss: 0.1136, Val Loss: 0.4350, Train Accuracy: 0.9604, Val Accuracy: 0.8840\n"
     ]
    },
    {
     "name": "stderr",
     "output_type": "stream",
     "text": [
      "Epoch 28/100: 100%|██████████| 157/157 [00:19<00:00,  8.19batch/s, loss=0.113]\n",
      "Validating: 100%|██████████| 16/16 [00:01<00:00, 13.53batch/s]\n"
     ]
    },
    {
     "name": "stdout",
     "output_type": "stream",
     "text": [
      "Epoch [28/100], Train Loss: 0.1128, Val Loss: 0.8230, Train Accuracy: 0.9633, Val Accuracy: 0.8050\n"
     ]
    },
    {
     "name": "stderr",
     "output_type": "stream",
     "text": [
      "Epoch 29/100: 100%|██████████| 157/157 [00:18<00:00,  8.69batch/s, loss=0.109]\n",
      "Validating: 100%|██████████| 16/16 [00:01<00:00, 13.29batch/s]\n"
     ]
    },
    {
     "name": "stdout",
     "output_type": "stream",
     "text": [
      "Epoch [29/100], Train Loss: 0.1093, Val Loss: 0.5594, Train Accuracy: 0.9621, Val Accuracy: 0.8740\n"
     ]
    },
    {
     "name": "stderr",
     "output_type": "stream",
     "text": [
      "Epoch 30/100: 100%|██████████| 157/157 [00:18<00:00,  8.27batch/s, loss=0.102]\n",
      "Validating: 100%|██████████| 16/16 [00:01<00:00, 13.50batch/s]\n"
     ]
    },
    {
     "name": "stdout",
     "output_type": "stream",
     "text": [
      "Epoch [30/100], Train Loss: 0.1019, Val Loss: 0.7546, Train Accuracy: 0.9631, Val Accuracy: 0.8740\n"
     ]
    },
    {
     "name": "stderr",
     "output_type": "stream",
     "text": [
      "Epoch 31/100: 100%|██████████| 157/157 [00:17<00:00,  8.75batch/s, loss=0.107]\n",
      "Validating: 100%|██████████| 16/16 [00:01<00:00, 13.91batch/s]\n"
     ]
    },
    {
     "name": "stdout",
     "output_type": "stream",
     "text": [
      "Epoch [31/100], Train Loss: 0.1067, Val Loss: 0.2256, Train Accuracy: 0.9631, Val Accuracy: 0.9410\n"
     ]
    },
    {
     "name": "stderr",
     "output_type": "stream",
     "text": [
      "Epoch 32/100: 100%|██████████| 157/157 [00:16<00:00,  9.24batch/s, loss=0.107] \n",
      "Validating: 100%|██████████| 16/16 [00:02<00:00,  7.38batch/s]\n"
     ]
    },
    {
     "name": "stdout",
     "output_type": "stream",
     "text": [
      "Epoch [32/100], Train Loss: 0.1071, Val Loss: 0.2696, Train Accuracy: 0.9643, Val Accuracy: 0.9310\n"
     ]
    },
    {
     "name": "stderr",
     "output_type": "stream",
     "text": [
      "Epoch 33/100: 100%|██████████| 157/157 [00:17<00:00,  9.19batch/s, loss=0.103]\n",
      "Validating: 100%|██████████| 16/16 [00:01<00:00, 13.79batch/s]\n"
     ]
    },
    {
     "name": "stdout",
     "output_type": "stream",
     "text": [
      "Epoch [33/100], Train Loss: 0.1034, Val Loss: 0.7573, Train Accuracy: 0.9652, Val Accuracy: 0.8750\n"
     ]
    },
    {
     "name": "stderr",
     "output_type": "stream",
     "text": [
      "Epoch 34/100: 100%|██████████| 157/157 [00:17<00:00,  8.76batch/s, loss=0.11] \n",
      "Validating: 100%|██████████| 16/16 [00:01<00:00, 13.71batch/s]\n"
     ]
    },
    {
     "name": "stdout",
     "output_type": "stream",
     "text": [
      "Epoch [34/100], Train Loss: 0.1096, Val Loss: 0.3822, Train Accuracy: 0.9618, Val Accuracy: 0.9240\n"
     ]
    },
    {
     "name": "stderr",
     "output_type": "stream",
     "text": [
      "Epoch 35/100: 100%|██████████| 157/157 [00:19<00:00,  8.11batch/s, loss=0.085] \n",
      "Validating: 100%|██████████| 16/16 [00:01<00:00, 13.90batch/s]\n"
     ]
    },
    {
     "name": "stdout",
     "output_type": "stream",
     "text": [
      "Epoch [35/100], Train Loss: 0.0850, Val Loss: 0.6943, Train Accuracy: 0.9709, Val Accuracy: 0.8670\n"
     ]
    },
    {
     "name": "stderr",
     "output_type": "stream",
     "text": [
      "Epoch 36/100: 100%|██████████| 157/157 [00:18<00:00,  8.69batch/s, loss=0.07]  \n",
      "Validating: 100%|██████████| 16/16 [00:01<00:00, 13.53batch/s]\n"
     ]
    },
    {
     "name": "stdout",
     "output_type": "stream",
     "text": [
      "Epoch [36/100], Train Loss: 0.0700, Val Loss: 0.4083, Train Accuracy: 0.9748, Val Accuracy: 0.9190\n"
     ]
    },
    {
     "name": "stderr",
     "output_type": "stream",
     "text": [
      "Epoch 37/100: 100%|██████████| 157/157 [00:19<00:00,  8.14batch/s, loss=0.0934]\n",
      "Validating: 100%|██████████| 16/16 [00:01<00:00, 14.12batch/s]\n"
     ]
    },
    {
     "name": "stdout",
     "output_type": "stream",
     "text": [
      "Epoch [37/100], Train Loss: 0.0934, Val Loss: 0.2269, Train Accuracy: 0.9680, Val Accuracy: 0.9450\n"
     ]
    },
    {
     "name": "stderr",
     "output_type": "stream",
     "text": [
      "Epoch 38/100: 100%|██████████| 157/157 [00:18<00:00,  8.69batch/s, loss=0.0763]\n",
      "Validating: 100%|██████████| 16/16 [00:01<00:00, 13.52batch/s]\n"
     ]
    },
    {
     "name": "stdout",
     "output_type": "stream",
     "text": [
      "Epoch [38/100], Train Loss: 0.0763, Val Loss: 2.3485, Train Accuracy: 0.9733, Val Accuracy: 0.7270\n"
     ]
    },
    {
     "name": "stderr",
     "output_type": "stream",
     "text": [
      "Epoch 39/100: 100%|██████████| 157/157 [00:17<00:00,  8.75batch/s, loss=0.12] \n",
      "Validating: 100%|██████████| 16/16 [00:01<00:00, 13.91batch/s]\n"
     ]
    },
    {
     "name": "stdout",
     "output_type": "stream",
     "text": [
      "Epoch [39/100], Train Loss: 0.1203, Val Loss: 1.3191, Train Accuracy: 0.9614, Val Accuracy: 0.7830\n"
     ]
    },
    {
     "name": "stderr",
     "output_type": "stream",
     "text": [
      "Epoch 40/100: 100%|██████████| 157/157 [00:17<00:00,  8.77batch/s, loss=0.0654]\n",
      "Validating: 100%|██████████| 16/16 [00:01<00:00, 13.87batch/s]\n"
     ]
    },
    {
     "name": "stdout",
     "output_type": "stream",
     "text": [
      "Epoch [40/100], Train Loss: 0.0654, Val Loss: 3.4375, Train Accuracy: 0.9781, Val Accuracy: 0.6830\n"
     ]
    },
    {
     "name": "stderr",
     "output_type": "stream",
     "text": [
      "Epoch 41/100: 100%|██████████| 157/157 [00:18<00:00,  8.64batch/s, loss=0.0765]\n",
      "Validating: 100%|██████████| 16/16 [00:01<00:00, 13.51batch/s]\n"
     ]
    },
    {
     "name": "stdout",
     "output_type": "stream",
     "text": [
      "Epoch [41/100], Train Loss: 0.0765, Val Loss: 0.7831, Train Accuracy: 0.9745, Val Accuracy: 0.8570\n"
     ]
    },
    {
     "name": "stderr",
     "output_type": "stream",
     "text": [
      "Epoch 42/100: 100%|██████████| 157/157 [00:18<00:00,  8.71batch/s, loss=0.0807]\n",
      "Validating: 100%|██████████| 16/16 [00:01<00:00, 13.73batch/s]\n"
     ]
    },
    {
     "name": "stdout",
     "output_type": "stream",
     "text": [
      "Epoch [42/100], Train Loss: 0.0807, Val Loss: 0.2619, Train Accuracy: 0.9738, Val Accuracy: 0.9430\n"
     ]
    },
    {
     "name": "stderr",
     "output_type": "stream",
     "text": [
      "Epoch 43/100: 100%|██████████| 157/157 [00:17<00:00,  9.00batch/s, loss=0.0648]\n",
      "Validating: 100%|██████████| 16/16 [00:01<00:00, 13.33batch/s]\n"
     ]
    },
    {
     "name": "stdout",
     "output_type": "stream",
     "text": [
      "Epoch [43/100], Train Loss: 0.0648, Val Loss: 0.3592, Train Accuracy: 0.9776, Val Accuracy: 0.9380\n"
     ]
    },
    {
     "name": "stderr",
     "output_type": "stream",
     "text": [
      "Epoch 44/100: 100%|██████████| 157/157 [00:17<00:00,  9.05batch/s, loss=0.0736]\n",
      "Validating: 100%|██████████| 16/16 [00:01<00:00, 13.63batch/s]\n"
     ]
    },
    {
     "name": "stdout",
     "output_type": "stream",
     "text": [
      "Epoch [44/100], Train Loss: 0.0736, Val Loss: 0.2114, Train Accuracy: 0.9751, Val Accuracy: 0.9550\n"
     ]
    },
    {
     "name": "stderr",
     "output_type": "stream",
     "text": [
      "Epoch 45/100: 100%|██████████| 157/157 [00:17<00:00,  8.95batch/s, loss=0.0744]\n",
      "Validating: 100%|██████████| 16/16 [00:01<00:00, 12.52batch/s]\n"
     ]
    },
    {
     "name": "stdout",
     "output_type": "stream",
     "text": [
      "Epoch [45/100], Train Loss: 0.0744, Val Loss: 0.3433, Train Accuracy: 0.9745, Val Accuracy: 0.9370\n"
     ]
    },
    {
     "name": "stderr",
     "output_type": "stream",
     "text": [
      "Epoch 46/100: 100%|██████████| 157/157 [00:17<00:00,  8.96batch/s, loss=0.0666]\n",
      "Validating: 100%|██████████| 16/16 [00:01<00:00, 13.71batch/s]\n"
     ]
    },
    {
     "name": "stdout",
     "output_type": "stream",
     "text": [
      "Epoch [46/100], Train Loss: 0.0666, Val Loss: 0.4988, Train Accuracy: 0.9769, Val Accuracy: 0.9050\n"
     ]
    },
    {
     "name": "stderr",
     "output_type": "stream",
     "text": [
      "Epoch 47/100: 100%|██████████| 157/157 [00:17<00:00,  8.92batch/s, loss=0.0578]\n",
      "Validating: 100%|██████████| 16/16 [00:01<00:00, 13.71batch/s]\n"
     ]
    },
    {
     "name": "stdout",
     "output_type": "stream",
     "text": [
      "Epoch [47/100], Train Loss: 0.0578, Val Loss: 1.2876, Train Accuracy: 0.9803, Val Accuracy: 0.8470\n"
     ]
    },
    {
     "name": "stderr",
     "output_type": "stream",
     "text": [
      "Epoch 48/100: 100%|██████████| 157/157 [00:17<00:00,  9.00batch/s, loss=0.0763]\n",
      "Validating: 100%|██████████| 16/16 [00:01<00:00, 13.59batch/s]\n"
     ]
    },
    {
     "name": "stdout",
     "output_type": "stream",
     "text": [
      "Epoch [48/100], Train Loss: 0.0763, Val Loss: 0.5890, Train Accuracy: 0.9747, Val Accuracy: 0.8920\n"
     ]
    },
    {
     "name": "stderr",
     "output_type": "stream",
     "text": [
      "Epoch 49/100: 100%|██████████| 157/157 [00:17<00:00,  9.17batch/s, loss=0.0586]\n",
      "Validating: 100%|██████████| 16/16 [00:01<00:00, 13.48batch/s]\n"
     ]
    },
    {
     "name": "stdout",
     "output_type": "stream",
     "text": [
      "Epoch [49/100], Train Loss: 0.0586, Val Loss: 0.8885, Train Accuracy: 0.9801, Val Accuracy: 0.8840\n"
     ]
    },
    {
     "name": "stderr",
     "output_type": "stream",
     "text": [
      "Epoch 50/100: 100%|██████████| 157/157 [00:17<00:00,  9.16batch/s, loss=0.0635]\n",
      "Validating: 100%|██████████| 16/16 [00:01<00:00, 13.24batch/s]\n"
     ]
    },
    {
     "name": "stdout",
     "output_type": "stream",
     "text": [
      "Epoch [50/100], Train Loss: 0.0635, Val Loss: 0.3321, Train Accuracy: 0.9781, Val Accuracy: 0.9320\n"
     ]
    },
    {
     "name": "stderr",
     "output_type": "stream",
     "text": [
      "Epoch 51/100: 100%|██████████| 157/157 [00:17<00:00,  9.17batch/s, loss=0.0563]\n",
      "Validating: 100%|██████████| 16/16 [00:01<00:00, 13.52batch/s]\n"
     ]
    },
    {
     "name": "stdout",
     "output_type": "stream",
     "text": [
      "Epoch [51/100], Train Loss: 0.0563, Val Loss: 0.2799, Train Accuracy: 0.9820, Val Accuracy: 0.9440\n"
     ]
    },
    {
     "name": "stderr",
     "output_type": "stream",
     "text": [
      "Epoch 52/100: 100%|██████████| 157/157 [00:17<00:00,  9.13batch/s, loss=0.0543]\n",
      "Validating: 100%|██████████| 16/16 [00:01<00:00, 13.65batch/s]\n"
     ]
    },
    {
     "name": "stdout",
     "output_type": "stream",
     "text": [
      "Epoch [52/100], Train Loss: 0.0543, Val Loss: 0.9286, Train Accuracy: 0.9817, Val Accuracy: 0.8850\n"
     ]
    },
    {
     "name": "stderr",
     "output_type": "stream",
     "text": [
      "Epoch 53/100: 100%|██████████| 157/157 [00:17<00:00,  9.08batch/s, loss=0.0764]\n",
      "Validating: 100%|██████████| 16/16 [00:01<00:00, 13.41batch/s]\n"
     ]
    },
    {
     "name": "stdout",
     "output_type": "stream",
     "text": [
      "Epoch [53/100], Train Loss: 0.0764, Val Loss: 0.1615, Train Accuracy: 0.9763, Val Accuracy: 0.9630\n"
     ]
    },
    {
     "name": "stderr",
     "output_type": "stream",
     "text": [
      "Epoch 54/100: 100%|██████████| 157/157 [00:18<00:00,  8.57batch/s, loss=0.0562]\n",
      "Validating: 100%|██████████| 16/16 [00:01<00:00, 13.42batch/s]\n"
     ]
    },
    {
     "name": "stdout",
     "output_type": "stream",
     "text": [
      "Epoch [54/100], Train Loss: 0.0562, Val Loss: 0.3350, Train Accuracy: 0.9816, Val Accuracy: 0.9290\n"
     ]
    },
    {
     "name": "stderr",
     "output_type": "stream",
     "text": [
      "Epoch 55/100: 100%|██████████| 157/157 [00:17<00:00,  9.21batch/s, loss=0.0458]\n",
      "Validating: 100%|██████████| 16/16 [00:01<00:00, 13.30batch/s]\n"
     ]
    },
    {
     "name": "stdout",
     "output_type": "stream",
     "text": [
      "Epoch [55/100], Train Loss: 0.0458, Val Loss: 0.6726, Train Accuracy: 0.9840, Val Accuracy: 0.8950\n"
     ]
    },
    {
     "name": "stderr",
     "output_type": "stream",
     "text": [
      "Epoch 56/100: 100%|██████████| 157/157 [00:16<00:00,  9.32batch/s, loss=0.0549]\n",
      "Validating: 100%|██████████| 16/16 [00:01<00:00, 13.32batch/s]\n"
     ]
    },
    {
     "name": "stdout",
     "output_type": "stream",
     "text": [
      "Epoch [56/100], Train Loss: 0.0549, Val Loss: 0.9285, Train Accuracy: 0.9810, Val Accuracy: 0.8450\n"
     ]
    },
    {
     "name": "stderr",
     "output_type": "stream",
     "text": [
      "Epoch 57/100: 100%|██████████| 157/157 [00:16<00:00,  9.34batch/s, loss=0.0561]\n",
      "Validating: 100%|██████████| 16/16 [00:01<00:00, 13.78batch/s]\n"
     ]
    },
    {
     "name": "stdout",
     "output_type": "stream",
     "text": [
      "Epoch [57/100], Train Loss: 0.0561, Val Loss: 0.3927, Train Accuracy: 0.9789, Val Accuracy: 0.9350\n"
     ]
    },
    {
     "name": "stderr",
     "output_type": "stream",
     "text": [
      "Epoch 58/100: 100%|██████████| 157/157 [00:16<00:00,  9.27batch/s, loss=0.0617]\n",
      "Validating: 100%|██████████| 16/16 [00:01<00:00, 13.61batch/s]\n"
     ]
    },
    {
     "name": "stdout",
     "output_type": "stream",
     "text": [
      "Epoch [58/100], Train Loss: 0.0617, Val Loss: 0.4892, Train Accuracy: 0.9829, Val Accuracy: 0.9260\n"
     ]
    },
    {
     "name": "stderr",
     "output_type": "stream",
     "text": [
      "Epoch 59/100: 100%|██████████| 157/157 [00:16<00:00,  9.28batch/s, loss=0.0591]\n",
      "Validating: 100%|██████████| 16/16 [00:01<00:00, 13.47batch/s]\n"
     ]
    },
    {
     "name": "stdout",
     "output_type": "stream",
     "text": [
      "Epoch [59/100], Train Loss: 0.0591, Val Loss: 1.1263, Train Accuracy: 0.9797, Val Accuracy: 0.8620\n"
     ]
    },
    {
     "name": "stderr",
     "output_type": "stream",
     "text": [
      "Epoch 60/100: 100%|██████████| 157/157 [00:16<00:00,  9.34batch/s, loss=0.0352]\n",
      "Validating: 100%|██████████| 16/16 [00:01<00:00, 13.81batch/s]\n"
     ]
    },
    {
     "name": "stdout",
     "output_type": "stream",
     "text": [
      "Epoch [60/100], Train Loss: 0.0352, Val Loss: 0.1874, Train Accuracy: 0.9887, Val Accuracy: 0.9660\n"
     ]
    },
    {
     "name": "stderr",
     "output_type": "stream",
     "text": [
      "Epoch 61/100: 100%|██████████| 157/157 [00:16<00:00,  9.32batch/s, loss=0.0688]\n",
      "Validating: 100%|██████████| 16/16 [00:01<00:00, 13.63batch/s]\n"
     ]
    },
    {
     "name": "stdout",
     "output_type": "stream",
     "text": [
      "Epoch [61/100], Train Loss: 0.0688, Val Loss: 0.5017, Train Accuracy: 0.9778, Val Accuracy: 0.9140\n"
     ]
    },
    {
     "name": "stderr",
     "output_type": "stream",
     "text": [
      "Epoch 62/100: 100%|██████████| 157/157 [00:16<00:00,  9.34batch/s, loss=0.0337]\n",
      "Validating: 100%|██████████| 16/16 [00:01<00:00, 13.43batch/s]\n"
     ]
    },
    {
     "name": "stdout",
     "output_type": "stream",
     "text": [
      "Epoch [62/100], Train Loss: 0.0337, Val Loss: 0.4849, Train Accuracy: 0.9873, Val Accuracy: 0.9090\n"
     ]
    },
    {
     "name": "stderr",
     "output_type": "stream",
     "text": [
      "Epoch 63/100: 100%|██████████| 157/157 [00:16<00:00,  9.31batch/s, loss=0.0441]\n",
      "Validating: 100%|██████████| 16/16 [00:01<00:00, 13.96batch/s]\n"
     ]
    },
    {
     "name": "stdout",
     "output_type": "stream",
     "text": [
      "Epoch [63/100], Train Loss: 0.0441, Val Loss: 1.8079, Train Accuracy: 0.9840, Val Accuracy: 0.7880\n"
     ]
    },
    {
     "name": "stderr",
     "output_type": "stream",
     "text": [
      "Epoch 64/100: 100%|██████████| 157/157 [00:16<00:00,  9.27batch/s, loss=0.0451]\n",
      "Validating: 100%|██████████| 16/16 [00:01<00:00, 13.59batch/s]\n"
     ]
    },
    {
     "name": "stdout",
     "output_type": "stream",
     "text": [
      "Epoch [64/100], Train Loss: 0.0451, Val Loss: 0.2033, Train Accuracy: 0.9852, Val Accuracy: 0.9600\n"
     ]
    },
    {
     "name": "stderr",
     "output_type": "stream",
     "text": [
      "Epoch 65/100: 100%|██████████| 157/157 [00:16<00:00,  9.28batch/s, loss=0.0742]\n",
      "Validating: 100%|██████████| 16/16 [00:01<00:00, 13.84batch/s]\n"
     ]
    },
    {
     "name": "stdout",
     "output_type": "stream",
     "text": [
      "Epoch [65/100], Train Loss: 0.0742, Val Loss: 0.1976, Train Accuracy: 0.9772, Val Accuracy: 0.9580\n"
     ]
    },
    {
     "name": "stderr",
     "output_type": "stream",
     "text": [
      "Epoch 66/100: 100%|██████████| 157/157 [00:17<00:00,  9.22batch/s, loss=0.0362]\n",
      "Validating: 100%|██████████| 16/16 [00:01<00:00, 13.38batch/s]\n"
     ]
    },
    {
     "name": "stdout",
     "output_type": "stream",
     "text": [
      "Epoch [66/100], Train Loss: 0.0362, Val Loss: 1.4448, Train Accuracy: 0.9873, Val Accuracy: 0.8510\n"
     ]
    },
    {
     "name": "stderr",
     "output_type": "stream",
     "text": [
      "Epoch 67/100: 100%|██████████| 157/157 [00:17<00:00,  9.18batch/s, loss=0.0395]\n",
      "Validating: 100%|██████████| 16/16 [00:01<00:00, 13.54batch/s]\n"
     ]
    },
    {
     "name": "stdout",
     "output_type": "stream",
     "text": [
      "Epoch [67/100], Train Loss: 0.0395, Val Loss: 0.2832, Train Accuracy: 0.9882, Val Accuracy: 0.9420\n"
     ]
    },
    {
     "name": "stderr",
     "output_type": "stream",
     "text": [
      "Epoch 68/100: 100%|██████████| 157/157 [00:17<00:00,  9.17batch/s, loss=0.0743]\n",
      "Validating: 100%|██████████| 16/16 [00:01<00:00, 13.56batch/s]\n"
     ]
    },
    {
     "name": "stdout",
     "output_type": "stream",
     "text": [
      "Epoch [68/100], Train Loss: 0.0743, Val Loss: 0.1753, Train Accuracy: 0.9750, Val Accuracy: 0.9590\n"
     ]
    },
    {
     "name": "stderr",
     "output_type": "stream",
     "text": [
      "Epoch 69/100: 100%|██████████| 157/157 [00:17<00:00,  9.18batch/s, loss=0.0348]\n",
      "Validating: 100%|██████████| 16/16 [00:01<00:00, 13.52batch/s]\n"
     ]
    },
    {
     "name": "stdout",
     "output_type": "stream",
     "text": [
      "Epoch [69/100], Train Loss: 0.0348, Val Loss: 0.2498, Train Accuracy: 0.9890, Val Accuracy: 0.9550\n"
     ]
    },
    {
     "name": "stderr",
     "output_type": "stream",
     "text": [
      "Epoch 70/100: 100%|██████████| 157/157 [00:17<00:00,  9.15batch/s, loss=0.0351]\n",
      "Validating: 100%|██████████| 16/16 [00:01<00:00, 13.73batch/s]\n"
     ]
    },
    {
     "name": "stdout",
     "output_type": "stream",
     "text": [
      "Epoch [70/100], Train Loss: 0.0351, Val Loss: 0.2132, Train Accuracy: 0.9879, Val Accuracy: 0.9560\n"
     ]
    },
    {
     "name": "stderr",
     "output_type": "stream",
     "text": [
      "Epoch 71/100: 100%|██████████| 157/157 [00:17<00:00,  9.18batch/s, loss=0.0331]\n",
      "Validating: 100%|██████████| 16/16 [00:01<00:00, 13.37batch/s]\n"
     ]
    },
    {
     "name": "stdout",
     "output_type": "stream",
     "text": [
      "Epoch [71/100], Train Loss: 0.0331, Val Loss: 0.5870, Train Accuracy: 0.9882, Val Accuracy: 0.8870\n"
     ]
    },
    {
     "name": "stderr",
     "output_type": "stream",
     "text": [
      "Epoch 72/100: 100%|██████████| 157/157 [00:17<00:00,  9.14batch/s, loss=0.0454]\n",
      "Validating: 100%|██████████| 16/16 [00:01<00:00, 13.52batch/s]\n"
     ]
    },
    {
     "name": "stdout",
     "output_type": "stream",
     "text": [
      "Epoch [72/100], Train Loss: 0.0454, Val Loss: 0.1642, Train Accuracy: 0.9860, Val Accuracy: 0.9600\n"
     ]
    },
    {
     "name": "stderr",
     "output_type": "stream",
     "text": [
      "Epoch 73/100: 100%|██████████| 157/157 [00:17<00:00,  9.20batch/s, loss=0.0366]\n",
      "Validating: 100%|██████████| 16/16 [00:01<00:00, 13.13batch/s]\n"
     ]
    },
    {
     "name": "stdout",
     "output_type": "stream",
     "text": [
      "Epoch [73/100], Train Loss: 0.0366, Val Loss: 0.1797, Train Accuracy: 0.9875, Val Accuracy: 0.9670\n"
     ]
    },
    {
     "name": "stderr",
     "output_type": "stream",
     "text": [
      "Epoch 74/100: 100%|██████████| 157/157 [00:19<00:00,  7.89batch/s, loss=0.0357]\n",
      "Validating: 100%|██████████| 16/16 [00:02<00:00,  7.15batch/s]\n"
     ]
    },
    {
     "name": "stdout",
     "output_type": "stream",
     "text": [
      "Epoch [74/100], Train Loss: 0.0357, Val Loss: 1.1492, Train Accuracy: 0.9881, Val Accuracy: 0.8340\n"
     ]
    },
    {
     "name": "stderr",
     "output_type": "stream",
     "text": [
      "Epoch 75/100: 100%|██████████| 157/157 [00:20<00:00,  7.78batch/s, loss=0.0337]\n",
      "Validating: 100%|██████████| 16/16 [00:01<00:00, 13.30batch/s]\n"
     ]
    },
    {
     "name": "stdout",
     "output_type": "stream",
     "text": [
      "Epoch [75/100], Train Loss: 0.0337, Val Loss: 0.2522, Train Accuracy: 0.9883, Val Accuracy: 0.9540\n"
     ]
    },
    {
     "name": "stderr",
     "output_type": "stream",
     "text": [
      "Epoch 76/100: 100%|██████████| 157/157 [00:18<00:00,  8.29batch/s, loss=0.0476]\n",
      "Validating: 100%|██████████| 16/16 [00:01<00:00, 12.67batch/s]\n"
     ]
    },
    {
     "name": "stdout",
     "output_type": "stream",
     "text": [
      "Epoch [76/100], Train Loss: 0.0476, Val Loss: 0.5339, Train Accuracy: 0.9860, Val Accuracy: 0.9140\n"
     ]
    },
    {
     "name": "stderr",
     "output_type": "stream",
     "text": [
      "Epoch 77/100: 100%|██████████| 157/157 [00:18<00:00,  8.32batch/s, loss=0.042] \n",
      "Validating: 100%|██████████| 16/16 [00:01<00:00, 13.50batch/s]\n"
     ]
    },
    {
     "name": "stdout",
     "output_type": "stream",
     "text": [
      "Epoch [77/100], Train Loss: 0.0420, Val Loss: 0.2271, Train Accuracy: 0.9866, Val Accuracy: 0.9550\n"
     ]
    },
    {
     "name": "stderr",
     "output_type": "stream",
     "text": [
      "Epoch 78/100: 100%|██████████| 157/157 [00:18<00:00,  8.29batch/s, loss=0.0458]\n",
      "Validating: 100%|██████████| 16/16 [00:01<00:00, 13.83batch/s]\n"
     ]
    },
    {
     "name": "stdout",
     "output_type": "stream",
     "text": [
      "Epoch [78/100], Train Loss: 0.0458, Val Loss: 0.5555, Train Accuracy: 0.9861, Val Accuracy: 0.8960\n"
     ]
    },
    {
     "name": "stderr",
     "output_type": "stream",
     "text": [
      "Epoch 79/100: 100%|██████████| 157/157 [00:20<00:00,  7.75batch/s, loss=0.0353]\n",
      "Validating: 100%|██████████| 16/16 [00:01<00:00, 13.16batch/s]\n"
     ]
    },
    {
     "name": "stdout",
     "output_type": "stream",
     "text": [
      "Epoch [79/100], Train Loss: 0.0353, Val Loss: 0.2141, Train Accuracy: 0.9886, Val Accuracy: 0.9630\n"
     ]
    },
    {
     "name": "stderr",
     "output_type": "stream",
     "text": [
      "Epoch 80/100: 100%|██████████| 157/157 [00:19<00:00,  7.88batch/s, loss=0.0334]\n",
      "Validating: 100%|██████████| 16/16 [00:01<00:00, 13.62batch/s]\n"
     ]
    },
    {
     "name": "stdout",
     "output_type": "stream",
     "text": [
      "Epoch [80/100], Train Loss: 0.0334, Val Loss: 0.8585, Train Accuracy: 0.9889, Val Accuracy: 0.8870\n"
     ]
    },
    {
     "name": "stderr",
     "output_type": "stream",
     "text": [
      "Epoch 81/100: 100%|██████████| 157/157 [00:19<00:00,  8.17batch/s, loss=0.0334]\n",
      "Validating: 100%|██████████| 16/16 [00:01<00:00, 12.94batch/s]\n"
     ]
    },
    {
     "name": "stdout",
     "output_type": "stream",
     "text": [
      "Epoch [81/100], Train Loss: 0.0334, Val Loss: 0.6358, Train Accuracy: 0.9900, Val Accuracy: 0.9190\n"
     ]
    },
    {
     "name": "stderr",
     "output_type": "stream",
     "text": [
      "Epoch 82/100: 100%|██████████| 157/157 [00:19<00:00,  7.96batch/s, loss=0.0243]\n",
      "Validating: 100%|██████████| 16/16 [00:01<00:00, 13.81batch/s]\n"
     ]
    },
    {
     "name": "stdout",
     "output_type": "stream",
     "text": [
      "Epoch [82/100], Train Loss: 0.0243, Val Loss: 0.7147, Train Accuracy: 0.9907, Val Accuracy: 0.9030\n"
     ]
    },
    {
     "name": "stderr",
     "output_type": "stream",
     "text": [
      "Epoch 83/100: 100%|██████████| 157/157 [00:18<00:00,  8.30batch/s, loss=0.0232]\n",
      "Validating: 100%|██████████| 16/16 [00:01<00:00, 13.52batch/s]\n"
     ]
    },
    {
     "name": "stdout",
     "output_type": "stream",
     "text": [
      "Epoch [83/100], Train Loss: 0.0232, Val Loss: 0.2346, Train Accuracy: 0.9916, Val Accuracy: 0.9630\n"
     ]
    },
    {
     "name": "stderr",
     "output_type": "stream",
     "text": [
      "Epoch 84/100: 100%|██████████| 157/157 [00:17<00:00,  8.77batch/s, loss=0.0253]\n",
      "Validating: 100%|██████████| 16/16 [00:02<00:00,  7.36batch/s]\n"
     ]
    },
    {
     "name": "stdout",
     "output_type": "stream",
     "text": [
      "Epoch [84/100], Train Loss: 0.0253, Val Loss: 0.9467, Train Accuracy: 0.9915, Val Accuracy: 0.8950\n"
     ]
    },
    {
     "name": "stderr",
     "output_type": "stream",
     "text": [
      "Epoch 85/100: 100%|██████████| 157/157 [00:17<00:00,  8.79batch/s, loss=0.0411]\n",
      "Validating: 100%|██████████| 16/16 [00:01<00:00, 13.71batch/s]\n"
     ]
    },
    {
     "name": "stdout",
     "output_type": "stream",
     "text": [
      "Epoch [85/100], Train Loss: 0.0411, Val Loss: 2.8667, Train Accuracy: 0.9875, Val Accuracy: 0.6770\n"
     ]
    },
    {
     "name": "stderr",
     "output_type": "stream",
     "text": [
      "Epoch 86/100: 100%|██████████| 157/157 [00:18<00:00,  8.37batch/s, loss=0.0465]\n",
      "Validating: 100%|██████████| 16/16 [00:01<00:00, 13.94batch/s]\n"
     ]
    },
    {
     "name": "stdout",
     "output_type": "stream",
     "text": [
      "Epoch [86/100], Train Loss: 0.0465, Val Loss: 1.7126, Train Accuracy: 0.9870, Val Accuracy: 0.8190\n"
     ]
    },
    {
     "name": "stderr",
     "output_type": "stream",
     "text": [
      "Epoch 87/100: 100%|██████████| 157/157 [00:17<00:00,  8.78batch/s, loss=0.0316]\n",
      "Validating: 100%|██████████| 16/16 [00:01<00:00, 13.19batch/s]\n"
     ]
    },
    {
     "name": "stdout",
     "output_type": "stream",
     "text": [
      "Epoch [87/100], Train Loss: 0.0316, Val Loss: 0.1824, Train Accuracy: 0.9881, Val Accuracy: 0.9720\n"
     ]
    },
    {
     "name": "stderr",
     "output_type": "stream",
     "text": [
      "Epoch 88/100: 100%|██████████| 157/157 [00:17<00:00,  8.76batch/s, loss=0.0217]\n",
      "Validating: 100%|██████████| 16/16 [00:01<00:00, 13.97batch/s]\n"
     ]
    },
    {
     "name": "stdout",
     "output_type": "stream",
     "text": [
      "Epoch [88/100], Train Loss: 0.0217, Val Loss: 0.2380, Train Accuracy: 0.9927, Val Accuracy: 0.9560\n"
     ]
    },
    {
     "name": "stderr",
     "output_type": "stream",
     "text": [
      "Epoch 89/100: 100%|██████████| 157/157 [00:18<00:00,  8.35batch/s, loss=0.0212]\n",
      "Validating: 100%|██████████| 16/16 [00:01<00:00, 13.67batch/s]\n"
     ]
    },
    {
     "name": "stdout",
     "output_type": "stream",
     "text": [
      "Epoch [89/100], Train Loss: 0.0212, Val Loss: 0.3213, Train Accuracy: 0.9931, Val Accuracy: 0.9400\n"
     ]
    },
    {
     "name": "stderr",
     "output_type": "stream",
     "text": [
      "Epoch 90/100: 100%|██████████| 157/157 [00:19<00:00,  7.92batch/s, loss=0.0255]\n",
      "Validating: 100%|██████████| 16/16 [00:01<00:00, 13.62batch/s]\n"
     ]
    },
    {
     "name": "stdout",
     "output_type": "stream",
     "text": [
      "Epoch [90/100], Train Loss: 0.0255, Val Loss: 0.5411, Train Accuracy: 0.9907, Val Accuracy: 0.9330\n"
     ]
    },
    {
     "name": "stderr",
     "output_type": "stream",
     "text": [
      "Epoch 91/100: 100%|██████████| 157/157 [00:21<00:00,  7.42batch/s, loss=0.0299]\n",
      "Validating: 100%|██████████| 16/16 [00:02<00:00,  7.20batch/s]\n"
     ]
    },
    {
     "name": "stdout",
     "output_type": "stream",
     "text": [
      "Epoch [91/100], Train Loss: 0.0299, Val Loss: 0.7141, Train Accuracy: 0.9903, Val Accuracy: 0.8880\n"
     ]
    },
    {
     "name": "stderr",
     "output_type": "stream",
     "text": [
      "Epoch 92/100: 100%|██████████| 157/157 [00:18<00:00,  8.58batch/s, loss=0.0147]\n",
      "Validating: 100%|██████████| 16/16 [00:01<00:00,  9.36batch/s]\n"
     ]
    },
    {
     "name": "stdout",
     "output_type": "stream",
     "text": [
      "Epoch [92/100], Train Loss: 0.0147, Val Loss: 0.2567, Train Accuracy: 0.9944, Val Accuracy: 0.9500\n"
     ]
    },
    {
     "name": "stderr",
     "output_type": "stream",
     "text": [
      "Epoch 93/100: 100%|██████████| 157/157 [00:18<00:00,  8.35batch/s, loss=0.0344]\n",
      "Validating: 100%|██████████| 16/16 [00:01<00:00, 14.38batch/s]\n"
     ]
    },
    {
     "name": "stdout",
     "output_type": "stream",
     "text": [
      "Epoch [93/100], Train Loss: 0.0344, Val Loss: 0.1479, Train Accuracy: 0.9886, Val Accuracy: 0.9670\n"
     ]
    },
    {
     "name": "stderr",
     "output_type": "stream",
     "text": [
      "Epoch 94/100: 100%|██████████| 157/157 [00:18<00:00,  8.31batch/s, loss=0.0269]\n",
      "Validating: 100%|██████████| 16/16 [00:02<00:00,  7.39batch/s]\n"
     ]
    },
    {
     "name": "stdout",
     "output_type": "stream",
     "text": [
      "Epoch [94/100], Train Loss: 0.0269, Val Loss: 0.2720, Train Accuracy: 0.9920, Val Accuracy: 0.9580\n"
     ]
    },
    {
     "name": "stderr",
     "output_type": "stream",
     "text": [
      "Epoch 95/100: 100%|██████████| 157/157 [00:17<00:00,  8.82batch/s, loss=0.0269]\n",
      "Validating: 100%|██████████| 16/16 [00:01<00:00, 13.40batch/s]\n"
     ]
    },
    {
     "name": "stdout",
     "output_type": "stream",
     "text": [
      "Epoch [95/100], Train Loss: 0.0269, Val Loss: 5.8271, Train Accuracy: 0.9923, Val Accuracy: 0.6250\n"
     ]
    },
    {
     "name": "stderr",
     "output_type": "stream",
     "text": [
      "Epoch 96/100: 100%|██████████| 157/157 [00:18<00:00,  8.29batch/s, loss=0.0341]\n",
      "Validating: 100%|██████████| 16/16 [00:01<00:00, 13.75batch/s]\n"
     ]
    },
    {
     "name": "stdout",
     "output_type": "stream",
     "text": [
      "Epoch [96/100], Train Loss: 0.0341, Val Loss: 0.1727, Train Accuracy: 0.9894, Val Accuracy: 0.9660\n"
     ]
    },
    {
     "name": "stderr",
     "output_type": "stream",
     "text": [
      "Epoch 97/100: 100%|██████████| 157/157 [00:18<00:00,  8.37batch/s, loss=0.023] \n",
      "Validating: 100%|██████████| 16/16 [00:01<00:00, 13.88batch/s]\n"
     ]
    },
    {
     "name": "stdout",
     "output_type": "stream",
     "text": [
      "Epoch [97/100], Train Loss: 0.0230, Val Loss: 1.0399, Train Accuracy: 0.9922, Val Accuracy: 0.8430\n"
     ]
    },
    {
     "name": "stderr",
     "output_type": "stream",
     "text": [
      "Epoch 98/100: 100%|██████████| 157/157 [00:18<00:00,  8.34batch/s, loss=0.0294]\n",
      "Validating: 100%|██████████| 16/16 [00:01<00:00, 14.03batch/s]\n"
     ]
    },
    {
     "name": "stdout",
     "output_type": "stream",
     "text": [
      "Epoch [98/100], Train Loss: 0.0294, Val Loss: 0.2284, Train Accuracy: 0.9903, Val Accuracy: 0.9570\n"
     ]
    },
    {
     "name": "stderr",
     "output_type": "stream",
     "text": [
      "Epoch 99/100: 100%|██████████| 157/157 [00:19<00:00,  8.03batch/s, loss=0.0225]\n",
      "Validating: 100%|██████████| 16/16 [00:01<00:00,  9.20batch/s]\n"
     ]
    },
    {
     "name": "stdout",
     "output_type": "stream",
     "text": [
      "Epoch [99/100], Train Loss: 0.0225, Val Loss: 0.7049, Train Accuracy: 0.9925, Val Accuracy: 0.9060\n"
     ]
    },
    {
     "name": "stderr",
     "output_type": "stream",
     "text": [
      "Epoch 100/100: 100%|██████████| 157/157 [00:19<00:00,  8.14batch/s, loss=0.0337]\n",
      "Validating: 100%|██████████| 16/16 [00:02<00:00,  7.27batch/s]"
     ]
    },
    {
     "name": "stdout",
     "output_type": "stream",
     "text": [
      "Epoch [100/100], Train Loss: 0.0337, Val Loss: 0.2426, Train Accuracy: 0.9899, Val Accuracy: 0.9560\n"
     ]
    },
    {
     "name": "stderr",
     "output_type": "stream",
     "text": [
      "\n"
     ]
    }
   ],
   "source": [
    "# Define CNN architecture \n",
    "class ImprovedPlantVillageCNN(nn.Module):\n",
    "    def __init__(self):\n",
    "        super(ImprovedPlantVillageCNN, self).__init__()\n",
    "        self.conv1 = nn.Conv2d(3, 32, 3, padding=1)\n",
    "        self.bn1 = nn.BatchNorm2d(32)\n",
    "        self.pool1 = nn.MaxPool2d(2, 2)\n",
    "        \n",
    "        self.conv2 = nn.Conv2d(32, 64, 3, padding=1)\n",
    "        self.bn2 = nn.BatchNorm2d(64)\n",
    "        self.pool2 = nn.MaxPool2d(2, 2)\n",
    "        \n",
    "        self.conv3 = nn.Conv2d(64, 128, 3, padding=1)\n",
    "        self.bn3 = nn.BatchNorm2d(128)\n",
    "        self.pool3 = nn.MaxPool2d(2, 2)\n",
    "        \n",
    "        self.conv4 = nn.Conv2d(128, 256, 3, padding=1)\n",
    "        self.bn4 = nn.BatchNorm2d(256)\n",
    "        self.pool4 = nn.MaxPool2d(2, 2)\n",
    "        \n",
    "        self.fc1 = nn.Linear(256 * 8 * 8, 512)\n",
    "        self.dropout = nn.Dropout(0.5)\n",
    "        self.fc2 = nn.Linear(512, 10)\n",
    "\n",
    "    def forward(self, x):\n",
    "        x = self.pool1(F.relu(self.bn1(self.conv1(x))))\n",
    "        x = self.pool2(F.relu(self.bn2(self.conv2(x))))\n",
    "        x = self.pool3(F.relu(self.bn3(self.conv3(x))))\n",
    "        x = self.pool4(F.relu(self.bn4(self.conv4(x))))\n",
    "        x = x.view(-1, 256 * 8 * 8)\n",
    "        x = F.relu(self.fc1(x))\n",
    "        x = self.dropout(x)\n",
    "        x = self.fc2(x)\n",
    "        return x\n",
    "\n",
    "# Initialize the model, criterion, and optimizer\n",
    "device = torch.device(\"cuda\" if torch.cuda.is_available() else \"cpu\")\n",
    "model = ImprovedPlantVillageCNN().to(device)\n",
    "criterion = nn.CrossEntropyLoss()\n",
    "optimizer = optim.Adam(model.parameters(), lr=0.001)\n",
    "\n",
    "# Lists to store metrics\n",
    "train_losses = []\n",
    "val_losses = []\n",
    "train_accuracies = []\n",
    "val_accuracies = []\n",
    "\n",
    "# Training the model\n",
    "num_epochs = 100\n",
    "for epoch in range(num_epochs):\n",
    "    running_loss = 0.0\n",
    "    running_correct = 0\n",
    "    running_total = 0\n",
    "    model.train()\n",
    "    with tqdm(total=len(train_loader), desc=f'Epoch {epoch+1}/{num_epochs}', unit='batch') as pbar:\n",
    "        for inputs, labels in train_loader:\n",
    "            inputs, labels = inputs.to(device), labels.to(device)\n",
    "            if (labels == -1).all():  # Skip batches with only dummy data\n",
    "                continue\n",
    "            optimizer.zero_grad()\n",
    "            outputs = model(inputs)\n",
    "            loss = criterion(outputs, labels)\n",
    "            loss.backward()\n",
    "            optimizer.step()\n",
    "            running_loss += loss.item()\n",
    "            _, predicted = torch.max(outputs.data, 1)\n",
    "            running_total += labels.size(0)\n",
    "            running_correct += (predicted == labels).sum().item()\n",
    "            pbar.set_postfix({'loss': running_loss / (pbar.n + 1)})\n",
    "            pbar.update(1)\n",
    "\n",
    "    train_losses.append(running_loss / len(train_loader))\n",
    "    train_accuracies.append(running_correct / running_total)\n",
    "\n",
    "    # Validate the model every epoch\n",
    "    model.eval()\n",
    "    val_loss = 0.0\n",
    "    val_correct = 0\n",
    "    val_total = 0\n",
    "    with torch.no_grad():\n",
    "        with tqdm(total=len(val_loader), desc='Validating', unit='batch') as pbar_val:\n",
    "            for inputs, labels in val_loader:\n",
    "                inputs, labels = inputs.to(device), labels.to(device)\n",
    "                if (labels == -1).all():  # Skip batches with only dummy data\n",
    "                    continue\n",
    "                outputs = model(inputs)\n",
    "                loss = criterion(outputs, labels)\n",
    "                val_loss += loss.item()\n",
    "                _, predicted = torch.max(outputs.data, 1)\n",
    "                val_total += labels.size(0)\n",
    "                val_correct += (predicted == labels).sum().item()\n",
    "                pbar_val.update(1)\n",
    "\n",
    "    val_losses.append(val_loss / len(val_loader))\n",
    "    val_accuracies.append(val_correct / val_total)\n",
    "\n",
    "    print(f'Epoch [{epoch+1}/{num_epochs}], Train Loss: {train_losses[-1]:.4f}, Val Loss: {val_losses[-1]:.4f}, Train Accuracy: {train_accuracies[-1]:.4f}, Val Accuracy: {val_accuracies[-1]:.4f}')\n",
    "\n",
    "\n",
    "\n"
   ]
  },
  {
   "cell_type": "code",
   "execution_count": 5,
   "metadata": {},
   "outputs": [
    {
     "name": "stdout",
     "output_type": "stream",
     "text": [
      "Model saved to model.pth\n"
     ]
    }
   ],
   "source": [
    "\n",
    "# Save the trained model\n",
    "model_save_path = 'model.pth'\n",
    "torch.save(model.state_dict(), model_save_path)\n",
    "print(f'Model saved to {model_save_path}')\n"
   ]
  },
  {
   "cell_type": "code",
   "execution_count": null,
   "metadata": {},
   "outputs": [],
   "source": [
    "\n"
   ]
  }
 ],
 "metadata": {
  "kernelspec": {
   "display_name": "tomato-disease",
   "language": "python",
   "name": "python3"
  },
  "language_info": {
   "codemirror_mode": {
    "name": "ipython",
    "version": 3
   },
   "file_extension": ".py",
   "mimetype": "text/x-python",
   "name": "python",
   "nbconvert_exporter": "python",
   "pygments_lexer": "ipython3",
   "version": "3.8.19"
  }
 },
 "nbformat": 4,
 "nbformat_minor": 2
}
